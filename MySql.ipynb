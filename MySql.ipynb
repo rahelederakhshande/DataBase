{
 "cells": [
  {
   "cell_type": "code",
   "execution_count": 5,
   "metadata": {},
   "outputs": [],
   "source": [
    "import mysql.connector\n",
    "from mysql.connector import Error\n",
    "import os"
   ]
  },
  {
   "cell_type": "code",
   "execution_count": 6,
   "metadata": {},
   "outputs": [],
   "source": [
    "# Database Connection\n",
    "class Database:\n",
    "    def __init__(self, host, user, password, database=None):\n",
    "        self.host = host\n",
    "        self.user = user\n",
    "        self.password = password\n",
    "        self.database = database\n",
    "        self.connection = None\n",
    "        self.cursor = None\n",
    "        self.connect()\n",
    "    \n",
    "    def connect(self):\n",
    "        try:\n",
    "            self.connection = mysql.connector.connect(\n",
    "                host=self.host,\n",
    "                user=self.user,\n",
    "                password=self.password,\n",
    "                database=self.database\n",
    "            )\n",
    "            self.cursor = self.connection.cursor()\n",
    "        except Error as e:\n",
    "            print(e)\n",
    "\n",
    "    def create_database(self, name):\n",
    "        try:\n",
    "            sql = f\"CREATE DATABASE IF NOT EXISTS {name}\"\n",
    "            self.cursor.execute(sql)\n",
    "            self.connection.database = name\n",
    "            self.database = name\n",
    "            print(\"Database Created!\")\n",
    "        except Error as e:\n",
    "            print(e)\n",
    "\n",
    "    def create_table(self, table_sql):\n",
    "        try:\n",
    "            self.cursor.execute(table_sql)\n",
    "            print(f\"{table_sql}: created\")\n",
    "        except Error as e:\n",
    "            print(e)\n",
    "\n",
    "    def execute_query(self, query, params=None):\n",
    "        try:\n",
    "            self.cursor.execute(query, params or ())\n",
    "            if self.cursor.with_rows:\n",
    "                return self.cursor.fetchall()\n",
    "        except Error as e:\n",
    "            print(e)\n",
    "\n",
    "    def commit(self):\n",
    "        self.connection.commit()\n",
    "    \n",
    "    def close(self):\n",
    "        self.connection.close()"
   ]
  },
  {
   "cell_type": "code",
   "execution_count": 7,
   "metadata": {},
   "outputs": [],
   "source": [
    "# User Management\n",
    "class User:\n",
    "    def __init__(self, db):\n",
    "        self.db = db\n",
    "    \n",
    "    def register(self, username, password, email):\n",
    "        query = \"INSERT INTO users (username, password, email) VALUES (%s, %s, %s)\"\n",
    "        self.db.execute_query(query, (username, password, email))\n",
    "        self.db.commit()\n"
   ]
  },
  {
   "cell_type": "code",
   "execution_count": 18,
   "metadata": {},
   "outputs": [],
   "source": [
    "# Image Categories\n",
    "class Category:\n",
    "    def __init__(self, db):\n",
    "        self.db = db\n",
    "    \n",
    "    def add_category(self, name):\n",
    "        query = \"INSERT INTO categories (name) VALUES (%s)\"\n",
    "        self.db.execute_query(query, (name,))\n",
    "        self.db.commit()\n",
    "\n",
    "    def get_all_categories(self):\n",
    "        query = \"SELECT * FROM categories\"\n",
    "        return self.db.execute_query(query)\n",
    "\n"
   ]
  },
  {
   "cell_type": "code",
   "execution_count": 30,
   "metadata": {},
   "outputs": [],
   "source": [
    "# Image Handling\n",
    "class Image:\n",
    "    def __init__(self, db):\n",
    "        self.db = db\n",
    "    \n",
    "    def upload_img(self, user_id, cat_id, title, desc, file_path):\n",
    "        query = \"\"\"INSERT INTO images\n",
    "                (user_id, category_id, title, description, file_path)\n",
    "                VALUES (%s, %s, %s, %s, %s)\"\"\"\n",
    "        self.db.execute_query(query, (user_id, cat_id, title, desc, file_path))\n",
    "        self.db.commit()\n",
    "\n",
    "    def search_by_user(self, user_id):\n",
    "        query = \"SELECT * FROM images WHERE user_id = %s\"\n",
    "        return self.db.execute_query(query, (user_id,))\n",
    "\n",
    "    def delete_img(self, img_id):\n",
    "        query = \"SELECT * FROM images WHERE id = %s\"\n",
    "        img = self.db.execute_query(query, (img_id,))\n",
    "        if img:\n",
    "            query = \"DELETE FROM images WHERE id = %s\"\n",
    "            self.db.execute_query(query, (img_id,))\n",
    "            self.db.commit()\n",
    "            os.remove(img[0]['file_path'])\n"
   ]
  },
  {
   "cell_type": "code",
   "execution_count": 10,
   "metadata": {},
   "outputs": [],
   "source": [
    "# Define tables\n",
    "tables = {\n",
    "    'users': \"\"\"\n",
    "        CREATE TABLE IF NOT EXISTS users (\n",
    "            id INT AUTO_INCREMENT,\n",
    "            username VARCHAR(50) NOT NULL,\n",
    "            password VARCHAR(255) NOT NULL,\n",
    "            email VARCHAR(100),\n",
    "            PRIMARY KEY (id)\n",
    "        )\n",
    "    \"\"\",\n",
    "    'categories': \"\"\"\n",
    "        CREATE TABLE IF NOT EXISTS categories (\n",
    "            id INT AUTO_INCREMENT,\n",
    "            name VARCHAR(100) NOT NULL,\n",
    "            PRIMARY KEY (id)\n",
    "        )\n",
    "    \"\"\",\n",
    "    'images': \"\"\"\n",
    "        CREATE TABLE IF NOT EXISTS images (\n",
    "            id INT AUTO_INCREMENT,\n",
    "            user_id INT NOT NULL,\n",
    "            category_id INT,\n",
    "            title VARCHAR(255) NOT NULL,\n",
    "            description TEXT,\n",
    "            file_path VARCHAR(255) NOT NULL,\n",
    "            PRIMARY KEY (id),\n",
    "            FOREIGN KEY (user_id) REFERENCES users (id),\n",
    "            FOREIGN KEY (category_id) REFERENCES categories (id)\n",
    "        )\n",
    "    \"\"\"\n",
    "}"
   ]
  },
  {
   "cell_type": "code",
   "execution_count": 11,
   "metadata": {},
   "outputs": [],
   "source": [
    "db_info = {\n",
    "    'host': 'localhost',\n",
    "    'user': 'root',\n",
    "    'password': 'pass'\n",
    "}\n",
    "db = Database(**db_info)\n"
   ]
  },
  {
   "cell_type": "code",
   "execution_count": 12,
   "metadata": {},
   "outputs": [
    {
     "data": {
      "text/plain": [
       "{'host': 'localhost',\n",
       " 'user': 'root',\n",
       " 'password': 'pass',\n",
       " 'database': None,\n",
       " 'connection': <mysql.connector.connection_cext.CMySQLConnection at 0x7fa9e106ff40>,\n",
       " 'cursor': <mysql.connector.cursor_cext.CMySQLCursor at 0x7fa9f075e3a0>}"
      ]
     },
     "execution_count": 12,
     "metadata": {},
     "output_type": "execute_result"
    }
   ],
   "source": [
    "vars(db)"
   ]
  },
  {
   "cell_type": "code",
   "execution_count": 14,
   "metadata": {},
   "outputs": [
    {
     "name": "stdout",
     "output_type": "stream",
     "text": [
      "Database Created!\n"
     ]
    }
   ],
   "source": [
    "db.create_database(\"img_gallery\")"
   ]
  },
  {
   "cell_type": "code",
   "execution_count": 15,
   "metadata": {},
   "outputs": [
    {
     "data": {
      "text/plain": [
       "{'host': 'localhost',\n",
       " 'user': 'root',\n",
       " 'password': 'pass',\n",
       " 'database': 'img_gallery',\n",
       " 'connection': <mysql.connector.connection_cext.CMySQLConnection at 0x7fa9e106ff40>,\n",
       " 'cursor': <mysql.connector.cursor_cext.CMySQLCursor at 0x7fa9f075e3a0>}"
      ]
     },
     "execution_count": 15,
     "metadata": {},
     "output_type": "execute_result"
    }
   ],
   "source": [
    "vars(db)"
   ]
  },
  {
   "cell_type": "code",
   "execution_count": 13,
   "metadata": {},
   "outputs": [],
   "source": [
    "for table in tables.values():\n",
    "    db.create_table(table)"
   ]
  },
  {
   "cell_type": "code",
   "execution_count": 16,
   "metadata": {},
   "outputs": [],
   "source": [
    "user1 = User(db)\n",
    "user1.register(\"u1\", \"123\", \"a.b@gmail.com\")\n"
   ]
  },
  {
   "cell_type": "code",
   "execution_count": 19,
   "metadata": {},
   "outputs": [],
   "source": [
    "category1 = Category(db)\n",
    "category1.add_category(\"c2\")"
   ]
  },
  {
   "cell_type": "code",
   "execution_count": 20,
   "metadata": {},
   "outputs": [
    {
     "name": "stdout",
     "output_type": "stream",
     "text": [
      "[(1, 'c1'), (2, 'c2')]\n"
     ]
    }
   ],
   "source": [
    "data = category1.get_all_categories()\n",
    "print(data)"
   ]
  },
  {
   "cell_type": "code",
   "execution_count": 31,
   "metadata": {},
   "outputs": [],
   "source": [
    "img1 = Image(db)\n",
    "img1.upload_img(1, 2, \"t1\", \"d1\", \"Desktop\")"
   ]
  },
  {
   "cell_type": "code",
   "execution_count": 32,
   "metadata": {},
   "outputs": [
    {
     "data": {
      "text/plain": [
       "[(1, 1, 1, 't1', 'd1', 'Desktop'),\n",
       " (2, 1, 2, 't1', 'd1', 'Desktop'),\n",
       " (3, 1, 2, 't1', 'd1', 'Desktop'),\n",
       " (4, 1, 2, 't1', 'd1', 'Desktop')]"
      ]
     },
     "execution_count": 32,
     "metadata": {},
     "output_type": "execute_result"
    }
   ],
   "source": [
    "img1.search_by_user(1)"
   ]
  },
  {
   "cell_type": "code",
   "execution_count": 33,
   "metadata": {},
   "outputs": [],
   "source": [
    "img1.delete_img(3)"
   ]
  },
  {
   "cell_type": "code",
   "execution_count": 34,
   "metadata": {},
   "outputs": [
    {
     "data": {
      "text/plain": [
       "[(1, 1, 1, 't1', 'd1', 'Desktop'),\n",
       " (2, 1, 2, 't1', 'd1', 'Desktop'),\n",
       " (4, 1, 2, 't1', 'd1', 'Desktop')]"
      ]
     },
     "execution_count": 34,
     "metadata": {},
     "output_type": "execute_result"
    }
   ],
   "source": [
    "img1.search_by_user(1)"
   ]
  },
  {
   "cell_type": "code",
   "execution_count": null,
   "metadata": {},
   "outputs": [],
   "source": []
  }
 ],
 "metadata": {
  "kernelspec": {
   "display_name": "base",
   "language": "python",
   "name": "python3"
  },
  "language_info": {
   "codemirror_mode": {
    "name": "ipython",
    "version": 3
   },
   "file_extension": ".py",
   "mimetype": "text/x-python",
   "name": "python",
   "nbconvert_exporter": "python",
   "pygments_lexer": "ipython3",
   "version": "3.9.13"
  },
  "orig_nbformat": 4
 },
 "nbformat": 4,
 "nbformat_minor": 2
}
